{
 "cells": [
  {
   "cell_type": "code",
   "execution_count": 1,
   "metadata": {},
   "outputs": [],
   "source": [
    "from pyspark.sql import SparkSession"
   ]
  },
  {
   "cell_type": "code",
   "execution_count": 2,
   "metadata": {},
   "outputs": [],
   "source": [
    "spark= SparkSession.builder.appName('nlp').getOrCreate()"
   ]
  },
  {
   "cell_type": "code",
   "execution_count": 3,
   "metadata": {},
   "outputs": [],
   "source": [
    "#Importing all the necessary libraries\n",
    "import numpy as np\n",
    "\n",
    "from pyspark.ml.feature import StringIndexer, OneHotEncoder\n",
    "\n",
    "from pyspark.ml.feature import VectorAssembler\n",
    "from pyspark.ml.feature import MinMaxScaler, StandardScaler\n",
    "from pyspark.ml import Pipeline\n",
    "\n",
    "#ML Logisitic Regression\n",
    "from pyspark.ml.classification import LogisticRegression\n",
    "\n",
    "from pyspark.ml.tuning import ParamGridBuilder, CrossValidator"
   ]
  },
  {
   "cell_type": "code",
   "execution_count": 4,
   "metadata": {},
   "outputs": [],
   "source": [
    "#Read the dataset\n",
    "insurance= spark.read.csv('insurance.csv', header=True, inferSchema=True)"
   ]
  },
  {
   "cell_type": "code",
   "execution_count": 5,
   "metadata": {},
   "outputs": [
    {
     "name": "stdout",
     "output_type": "stream",
     "text": [
      "root\n",
      " |-- age: integer (nullable = true)\n",
      " |-- sex: string (nullable = true)\n",
      " |-- bmi: double (nullable = true)\n",
      " |-- children: integer (nullable = true)\n",
      " |-- smoker: string (nullable = true)\n",
      " |-- region: string (nullable = true)\n",
      " |-- charges: double (nullable = true)\n",
      "\n"
     ]
    }
   ],
   "source": [
    "insurance.printSchema()"
   ]
  },
  {
   "cell_type": "code",
   "execution_count": 6,
   "metadata": {},
   "outputs": [
    {
     "name": "stdout",
     "output_type": "stream",
     "text": [
      "+------+-----+\n",
      "|   sex|count|\n",
      "+------+-----+\n",
      "|female|  662|\n",
      "|  male|  676|\n",
      "+------+-----+\n",
      "\n"
     ]
    }
   ],
   "source": [
    "# To count the dataset by sex\n",
    "insurance.groupBy('sex').count().show()"
   ]
  },
  {
   "cell_type": "code",
   "execution_count": 7,
   "metadata": {},
   "outputs": [
    {
     "name": "stdout",
     "output_type": "stream",
     "text": [
      "+---------+-----+\n",
      "|   region|count|\n",
      "+---------+-----+\n",
      "|northwest|  325|\n",
      "|southeast|  364|\n",
      "|northeast|  324|\n",
      "|southwest|  325|\n",
      "+---------+-----+\n",
      "\n"
     ]
    }
   ],
   "source": [
    "# To count the dataset by region\n",
    "insurance.groupBy('region').count().show()"
   ]
  },
  {
   "cell_type": "code",
   "execution_count": 8,
   "metadata": {},
   "outputs": [
    {
     "name": "stdout",
     "output_type": "stream",
     "text": [
      "+------+-----+\n",
      "|smoker|count|\n",
      "+------+-----+\n",
      "|    no| 1064|\n",
      "|   yes|  274|\n",
      "+------+-----+\n",
      "\n"
     ]
    }
   ],
   "source": [
    "# To count the dataset by smoker type\n",
    "insurance.groupBy('smoker').count().show()"
   ]
  },
  {
   "cell_type": "code",
   "execution_count": 9,
   "metadata": {},
   "outputs": [
    {
     "name": "stdout",
     "output_type": "stream",
     "text": [
      "+--------+-----+\n",
      "|children|count|\n",
      "+--------+-----+\n",
      "|       1|  324|\n",
      "|       3|  157|\n",
      "|       5|   18|\n",
      "|       4|   25|\n",
      "|       2|  240|\n",
      "|       0|  574|\n",
      "+--------+-----+\n",
      "\n"
     ]
    }
   ],
   "source": [
    "# To count the dataset by children\n",
    "insurance.groupBy('children').count().show()"
   ]
  },
  {
   "cell_type": "markdown",
   "metadata": {},
   "source": [
    "With the help of string indexing, we have changed the index string values into integer values and also performed feature engineering on the dataset and cleaned the dataset for modelling\n"
   ]
  },
  {
   "cell_type": "code",
   "execution_count": 11,
   "metadata": {},
   "outputs": [
    {
     "name": "stdout",
     "output_type": "stream",
     "text": [
      "+---+------+------+--------+------+---------+-----------+---------+--------------+------------+-------------+---------+---------+------------+\n",
      "|age|   sex|   bmi|children|smoker|   region|    charges|bmi_index|children_index|region_index|charges_index|age_index|sex_index|smoker_index|\n",
      "+---+------+------+--------+------+---------+-----------+---------+--------------+------------+-------------+---------+---------+------------+\n",
      "| 19|female|  27.9|       0|   yes|southwest|  16884.924|    412.0|           0.0|         2.0|        340.0|      1.0|      1.0|         1.0|\n",
      "| 18|  male| 33.77|       1|    no|southeast|  1725.5523|    283.0|           1.0|         0.0|        358.0|      0.0|      0.0|         0.0|\n",
      "| 28|  male|  33.0|       3|    no|southeast|   4449.462|     32.0|           3.0|         0.0|        891.0|     17.0|      0.0|         0.0|\n",
      "| 33|  male|22.705|       0|    no|northwest|21984.47061|    130.0|           0.0|         1.0|        500.0|     30.0|      0.0|         0.0|\n",
      "| 32|  male| 28.88|       0|    no|northwest|  3866.8552|      2.0|           0.0|         1.0|        783.0|     29.0|      0.0|         0.0|\n",
      "| 31|female| 25.74|       0|    no|southeast|  3756.6216|     77.0|           0.0|         0.0|        766.0|     23.0|      1.0|         0.0|\n",
      "| 46|female| 33.44|       1|    no|southeast|  8240.5896|    106.0|           1.0|         0.0|       1212.0|      4.0|      1.0|         0.0|\n",
      "| 37|female| 27.74|       3|    no|northwest|  7281.5056|     25.0|           3.0|         1.0|       1152.0|     37.0|      1.0|         0.0|\n",
      "| 37|  male| 29.83|       2|    no|northeast|  6406.4107|     27.0|           2.0|         3.0|       1085.0|     37.0|      0.0|         0.0|\n",
      "| 60|female| 25.84|       0|    no|northwest|28923.13692|     42.0|           0.0|         1.0|        641.0|     42.0|      1.0|         0.0|\n",
      "+---+------+------+--------+------+---------+-----------+---------+--------------+------------+-------------+---------+---------+------------+\n",
      "only showing top 10 rows\n",
      "\n"
     ]
    }
   ],
   "source": [
    "from pyspark.ml.feature import StringIndexer\n",
    "from pyspark.ml import Pipeline\n",
    "indexers = [StringIndexer(inputCol=column, outputCol=column+\"_index\").fit(insurance) for column in list(set(insurance.columns)-set(['Provider_Id, Provider_Zip_Code, Total_Discharges, Average_Covered_Charges, Average_Total_Payments, Average_Medicare_Payments'])) ]\n",
    "pipeline = Pipeline(stages=indexers)\n",
    "data = pipeline.fit(insurance).transform(insurance)\n",
    "data.show(10)"
   ]
  },
  {
   "cell_type": "code",
   "execution_count": 12,
   "metadata": {},
   "outputs": [
    {
     "name": "stdout",
     "output_type": "stream",
     "text": [
      "+--------------------+-----------+\n",
      "|            features|    charges|\n",
      "+--------------------+-----------+\n",
      "|[19.0,0.0,27.9,2....|  16884.924|\n",
      "|[18.0,1.0,33.77,0...|  1725.5523|\n",
      "|[28.0,3.0,33.0,0....|   4449.462|\n",
      "|[33.0,0.0,22.705,...|21984.47061|\n",
      "|[32.0,0.0,28.88,1...|  3866.8552|\n",
      "|[31.0,0.0,25.74,0...|  3756.6216|\n",
      "|[46.0,1.0,33.44,0...|  8240.5896|\n",
      "|[37.0,3.0,27.74,1...|  7281.5056|\n",
      "|[37.0,2.0,29.83,3...|  6406.4107|\n",
      "|[60.0,0.0,25.84,1...|28923.13692|\n",
      "+--------------------+-----------+\n",
      "only showing top 10 rows\n",
      "\n"
     ]
    }
   ],
   "source": [
    "from pyspark.mllib.regression import LabeledPoint\n",
    "from pyspark.ml.linalg import Vectors\n",
    "from pyspark.ml.feature import VectorAssembler\n",
    "\n",
    "# Vector Assembler is used\n",
    "assembler = VectorAssembler(\n",
    "    inputCols=[\"age\",\"children\",\"bmi\",\"region_index\", \"smoker_index\", \"sex_index\"], outputCol=\"features\")\n",
    "output = assembler.transform(data)\n",
    "output.select('features', 'charges').show(10)"
   ]
  },
  {
   "cell_type": "markdown",
   "metadata": {},
   "source": [
    "The dataset is splitted  into train data and test data for modelling"
   ]
  },
  {
   "cell_type": "code",
   "execution_count": 13,
   "metadata": {},
   "outputs": [],
   "source": [
    "splits = output.randomSplit([0.7, 0.3])\n",
    "train_data = splits[0]\n",
    "test_data = splits[1]"
   ]
  },
  {
   "cell_type": "markdown",
   "metadata": {},
   "source": [
    "# Linear Regression model training\n"
   ]
  },
  {
   "cell_type": "code",
   "execution_count": 14,
   "metadata": {},
   "outputs": [],
   "source": [
    "from pyspark.ml.regression import LinearRegression\n",
    "from pyspark.ml.evaluation import RegressionEvaluator\n",
    "linr = LinearRegression(maxIter=6, regParam=0.0, labelCol='charges', solver=\"normal\")\n",
    "model = linr.fit(train_data)"
   ]
  },
  {
   "cell_type": "code",
   "execution_count": 16,
   "metadata": {},
   "outputs": [
    {
     "name": "stdout",
     "output_type": "stream",
     "text": [
      "RMSE: 5863.932211\n",
      "r2: 0.757061\n"
     ]
    }
   ],
   "source": [
    "# Finding the Model summary\n",
    "trainingSummary = model.summary\n",
    "print(\"RMSE: %f\" % trainingSummary.rootMeanSquaredError)\n",
    "print(\"r2: %f\" % trainingSummary.r2)"
   ]
  },
  {
   "cell_type": "code",
   "execution_count": 21,
   "metadata": {},
   "outputs": [
    {
     "name": "stdout",
     "output_type": "stream",
     "text": [
      "+---+------+------+--------+------+---------+-----------+---------+--------------+------------+-------------+---------+---------+------------+--------------------+------------------+\n",
      "|age|   sex|   bmi|children|smoker|   region|    charges|bmi_index|children_index|region_index|charges_index|age_index|sex_index|smoker_index|            features|        prediction|\n",
      "+---+------+------+--------+------+---------+-----------+---------+--------------+------------+-------------+---------+---------+------------+--------------------+------------------+\n",
      "| 18|female| 24.09|       1|    no|southeast|  2201.0971|    385.0|           1.0|         0.0|        502.0|      0.0|      1.0|         0.0|[18.0,1.0,24.09,0...|114.03357212963783|\n",
      "| 18|female|26.315|       0|    no|northeast| 2198.18985|     44.0|           0.0|         3.0|        499.0|      0.0|      1.0|         0.0|[18.0,0.0,26.315,...|1051.9607290210643|\n",
      "| 18|female| 27.28|       3|   yes|southeast| 18223.4512|    408.0|           3.0|         0.0|        385.0|      0.0|      1.0|         1.0|[18.0,3.0,27.28,0...|25916.279307872912|\n",
      "| 18|female|28.215|       0|    no|northeast| 2200.83085|     89.0|           0.0|         3.0|        501.0|      0.0|      1.0|         0.0|[18.0,0.0,28.215,...|1650.5024950014358|\n",
      "| 18|female|30.115|       0|    no|northeast| 21344.8467|     29.0|           0.0|         3.0|        479.0|      0.0|      1.0|         0.0|[18.0,0.0,30.115,...|2249.0442609818074|\n",
      "| 18|female| 31.35|       4|    no|northeast|  4561.1885|      6.0|           4.0|         3.0|        907.0|      0.0|      1.0|         0.0|[18.0,4.0,31.35,3...| 5097.725714103082|\n",
      "| 18|female|35.625|       0|    no|northeast| 2211.13075|    114.0|           0.0|         3.0|        507.0|      0.0|      1.0|         0.0|[18.0,0.0,35.625,...|3984.8153823248867|\n",
      "| 18|female| 38.28|       0|    no|southeast|14133.03775|    193.0|           0.0|         0.0|        262.0|      0.0|      1.0|         0.0|[18.0,0.0,38.28,0...| 3969.288171748227|\n",
      "| 18|female|38.665|       2|    no|northeast| 3393.35635|    484.0|           2.0|         3.0|        705.0|      0.0|      1.0|         0.0|[18.0,2.0,38.665,...| 6172.296860510502|\n",
      "| 18|  male| 17.29|       2|   yes|northeast| 12829.4551|    124.0|           2.0|         3.0|        200.0|      0.0|      0.0|         1.0|[18.0,2.0,17.29,3...|23037.153056119616|\n",
      "+---+------+------+--------+------+---------+-----------+---------+--------------+------------+-------------+---------+---------+------------+--------------------+------------------+\n",
      "only showing top 10 rows\n",
      "\n"
     ]
    }
   ],
   "source": [
    "# Predicting the test dataset using the trained model\n",
    "predictions = model.transform(test_data)\n",
    "predictions.show(10)"
   ]
  },
  {
   "cell_type": "code",
   "execution_count": 22,
   "metadata": {},
   "outputs": [
    {
     "data": {
      "text/plain": [
       "(80.47773494414807, 6476.66582174055)"
      ]
     },
     "execution_count": 22,
     "metadata": {},
     "output_type": "execute_result"
    }
   ],
   "source": [
    "evaluator = RegressionEvaluator(labelCol=\"charges\")\n",
    "rmse = evaluator.evaluate(predictions,{evaluator.metricName:\"rmse\" })\n",
    "np.sqrt(rmse), rmse"
   ]
  },
  {
   "cell_type": "code",
   "execution_count": 23,
   "metadata": {},
   "outputs": [
    {
     "name": "stdout",
     "output_type": "stream",
     "text": [
      "R Squared (R2) on test data = 0.733913\n"
     ]
    }
   ],
   "source": [
    "print(\"R Squared (R2) on test data = %g\" % evaluator.evaluate(predictions,{evaluator.metricName:\"r2\" }))"
   ]
  },
  {
   "cell_type": "markdown",
   "metadata": {},
   "source": [
    "Through the analysis with Linear Regression model on the dataset, we obtained the RMSE score of 6476.66 and R2 value of 0.733 on the test dataset. \n",
    "Hence, we conclude is capable of making predictions of the charges based on the details of the patients and provides best fit for the trained model. We also learnt through our analysis that we get the best fit for the trained model with the help of linear regression.\n"
   ]
  }
 ],
 "metadata": {
  "kernelspec": {
   "display_name": "Python 3",
   "language": "python",
   "name": "python3"
  },
  "language_info": {
   "codemirror_mode": {
    "name": "ipython",
    "version": 3
   },
   "file_extension": ".py",
   "mimetype": "text/x-python",
   "name": "python",
   "nbconvert_exporter": "python",
   "pygments_lexer": "ipython3",
   "version": "3.7.3"
  }
 },
 "nbformat": 4,
 "nbformat_minor": 2
}
